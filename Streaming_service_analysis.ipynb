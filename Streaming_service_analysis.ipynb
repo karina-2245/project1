{
 "cells": [
  {
   "cell_type": "markdown",
   "id": "ea9acba2-14cd-4b60-a90a-489a115a85f5",
   "metadata": {},
   "source": [
    "# Анализ данных стриминг-сервиса"
   ]
  },
  {
   "cell_type": "markdown",
   "id": "9fc0b16b-03dc-474c-920e-4f867236d259",
   "metadata": {},
   "source": [
    "В данном проекте был произведен анализ данных стримингового сервича (онлайн-кинотеатра), данных о фильмах, их рейтинге, данных о пользователях и их предпочтениях. Были использованы библиотеки python: Pandas, Numpy для аналитических запросов, Seaborn для визуализации."
   ]
  },
  {
   "cell_type": "markdown",
   "id": "b6db009c-3cf6-443c-a677-7fa3f35fd548",
   "metadata": {},
   "source": [
    "Для начала импортируем библиотеки python для анализа данных:"
   ]
  },
  {
   "cell_type": "code",
   "execution_count": 4,
   "id": "01a5b492-d169-4b9c-9f7d-858f99bf9050",
   "metadata": {},
   "outputs": [],
   "source": [
    "import pandas as pd\n",
    "import numpy as np\n",
    "import seaborn as sns\n",
    "import matplotlib.pyplot as plt"
   ]
  },
  {
   "cell_type": "markdown",
   "id": "6382bb75-3752-406e-b0a5-078840ec132a",
   "metadata": {},
   "source": [
    "### 1. Обработка данных"
   ]
  },
  {
   "cell_type": "markdown",
   "id": "fc8deb3e-f486-4824-b72e-302a5a71d4b5",
   "metadata": {},
   "source": [
    "#### 1.1 Импортирование файлов"
   ]
  },
  {
   "cell_type": "markdown",
   "id": "86dc0ee5-bcf3-4a58-a514-c8bc506c713c",
   "metadata": {},
   "source": [
    "Импортируем три дата сета с информацией о фильмах, их рейтинге, и пользователях стриминг-сервиса и преобразуем их в DataFrame"
   ]
  },
  {
   "cell_type": "code",
   "execution_count": 16,
   "id": "c31417eb-6ff9-4206-822c-0532ceb2ecb8",
   "metadata": {},
   "outputs": [],
   "source": [
    "movies_data = pd.read_csv('/Users/grigorovakarina/Downloads/archive/Netflix_Dataset_Movie.csv')\n",
    "ratings = pd.read_csv('/Users/grigorovakarina/Downloads/archive/Netflix_Dataset_Rating.csv')\n",
    "users = pd.read_csv('/Users/grigorovakarina/Downloads/netflix_users.csv')"
   ]
  },
  {
   "cell_type": "markdown",
   "id": "e995ae69-5180-4da7-b28a-a387d5c54bf1",
   "metadata": {},
   "source": [
    "#### 1.2 Проверка DataFrame на наличие пустых значений:"
   ]
  },
  {
   "cell_type": "code",
   "execution_count": 20,
   "id": "d2a6d298-0402-4f92-9732-3000a3f0a117",
   "metadata": {},
   "outputs": [
    {
     "name": "stdout",
     "output_type": "stream",
     "text": [
      "Movie_ID    0\n",
      "Year        0\n",
      "Name        0\n",
      "dtype: int64\n",
      "User_ID     0\n",
      "Rating      0\n",
      "Movie_ID    0\n",
      "dtype: int64\n",
      "User_ID              0\n",
      "Name                 0\n",
      "Age                  0\n",
      "Country              0\n",
      "Subscription_Type    0\n",
      "Watch_Time_Hours     0\n",
      "Favorite_Genre       0\n",
      "Last_Login           0\n",
      "dtype: int64\n"
     ]
    }
   ],
   "source": [
    "print(movies_data.isnull().sum())\n",
    "print(ratings.isnull().sum())\n",
    "print(users.isnull().sum())"
   ]
  },
  {
   "cell_type": "markdown",
   "id": "883ce9a4-d905-4c69-9ab6-47b73f38e2c5",
   "metadata": {},
   "source": [
    "Был использован метод .isnull(), который возвращает DataFrame той же формы, но с булевыми значениями True или False. Затем был применен метод .sum(), чтобы найти количество ненулевых значений. Поскольку False возвращает ноль, видно, что во всех трех DataFrame нулевые значения отсутствуют."
   ]
  },
  {
   "cell_type": "markdown",
   "id": "139a0a63-ba35-4c1c-aac5-f6454b1ce2d5",
   "metadata": {},
   "source": [
    "#### 1.3 Заполнение пустых значений"
   ]
  },
  {
   "cell_type": "markdown",
   "id": "8aa3425e-2bd0-422e-869e-281946d8cca9",
   "metadata": {},
   "source": [
    "Если бы в данных DataFrame присутствовали пустые значения, то преобразовать их можно было бы следующими способами:"
   ]
  },
  {
   "cell_type": "code",
   "execution_count": 25,
   "id": "ccb23d9d-c2ee-47ab-82f7-86e5db3c793d",
   "metadata": {},
   "outputs": [],
   "source": [
    "ratings['Rating'] = ratings['Rating'].fillna(ratings['Rating'].mean())\n",
    "users['Age'] = users['Age'].fillna(users['Age'].median())"
   ]
  },
  {
   "cell_type": "markdown",
   "id": "c20a23bb-8208-4cb4-b581-da7182ba1f87",
   "metadata": {},
   "source": [
    "Был применен метод .fillna(), который заполяет пустые значения в колонке 'Rating' значением в скобках. В данном случае пустые значения были заполнены средним значением в колонке 'Rating' с помощью метода .mean()"
   ]
  },
  {
   "cell_type": "markdown",
   "id": "c4a38271-dcb0-49da-a5f3-e59ead0c1a2a",
   "metadata": {},
   "source": [
    "Для колонки 'Age' пустые значения были заполнены медианным значением при помощи метода .median()"
   ]
  },
  {
   "cell_type": "markdown",
   "id": "241d8cb0-d163-4074-99c6-1ba954e078b7",
   "metadata": {},
   "source": [
    "#### 1.4 Объединение таблиц"
   ]
  },
  {
   "cell_type": "code",
   "execution_count": 31,
   "id": "89cc111e-71e0-482b-9a11-1896a3a152cd",
   "metadata": {},
   "outputs": [
    {
     "name": "stdout",
     "output_type": "stream",
     "text": [
      "   User_ID         Name_x  Age Country Subscription_Type  Watch_Time_Hours  \\\n",
      "0        6  David Johnson   21     USA          Standard            615.93   \n",
      "1        6  David Johnson   21     USA          Standard            615.93   \n",
      "2        6  David Johnson   21     USA          Standard            615.93   \n",
      "3        6  David Johnson   21     USA          Standard            615.93   \n",
      "4        6  David Johnson   21     USA          Standard            615.93   \n",
      "\n",
      "  Favorite_Genre  Last_Login  Movie_ID  Year                  Name_y  Rating  \n",
      "0        Romance  2025-02-03        30  2003  Something's Gotta Give       3  \n",
      "1        Romance  2025-02-03       173  1968     The Devil's Brigade       4  \n",
      "2        Romance  2025-02-03       175  1992          Reservoir Dogs       5  \n",
      "3        Romance  2025-02-03       191  2003        X2: X-Men United       2  \n",
      "4        Romance  2025-02-03       197  2004            Taking Lives       3  \n"
     ]
    }
   ],
   "source": [
    "merged_df = pd.merge(movies_data, ratings, on = 'Movie_ID')\n",
    "rating_user = pd.merge(users, merged_df, on = 'User_ID')\n",
    "print(rating_user.head())"
   ]
  },
  {
   "cell_type": "markdown",
   "id": "46b24826-7812-4762-aa1f-3fcda6223e5a",
   "metadata": {},
   "source": [
    "Все три DataFrame были объединены в один при помощи метода pd.merge(), затем были выведены первые пять строк получившегося DataFrame при помощи метода .head()"
   ]
  },
  {
   "cell_type": "markdown",
   "id": "c1ec607a-8ca0-449b-a7f0-77a93bf5c10d",
   "metadata": {},
   "source": [
    "### 2. Аналитические запросы"
   ]
  },
  {
   "cell_type": "markdown",
   "id": "0bc807c3-f2c7-4fa5-8488-bf1da6dad80c",
   "metadata": {},
   "source": [
    "#### 2.1 Самый популярный жанр"
   ]
  },
  {
   "cell_type": "markdown",
   "id": "fb8b481b-1ae3-45be-bf13-b31cc5e43df7",
   "metadata": {},
   "source": [
    "Найти самый популярный жанр фильмов среди пользователей можно следующим способом:"
   ]
  },
  {
   "cell_type": "code",
   "execution_count": 38,
   "id": "02995519-6d8c-4e58-8865-258b432df491",
   "metadata": {},
   "outputs": [
    {
     "name": "stdout",
     "output_type": "stream",
     "text": [
      "Самый популярный жанр среди пользователей:\n",
      "Romance\n"
     ]
    }
   ],
   "source": [
    "rating_user = rating_user.assign(Genres=rating_user['Favorite_Genre'].str.split('|')).explode('Favorite_Genre')\n",
    "most_popular_genre = rating_user['Favorite_Genre'].value_counts().idxmax()\n",
    "print(f'Самый популярный жанр среди пользователей:\\n{most_popular_genre}')"
   ]
  },
  {
   "cell_type": "markdown",
   "id": "f1dd190c-b22b-47a1-8c20-c8f0b4018da9",
   "metadata": {},
   "source": [
    "Cначала необходимо разделить информацию в колонке 'Favorite_Genre', так как может быть указан не один жанр. Затем с помощью метода .value_counts() производится подсчет количества каждого жанра, и выводится встречающийся чаще всего при помощи .idmax()"
   ]
  },
  {
   "cell_type": "markdown",
   "id": "c7d39355-b5d5-4873-9b69-138b1f1a7ca1",
   "metadata": {},
   "source": [
    "#### 2.2 Самый любимый жанр для определенных возрастных групп"
   ]
  },
  {
   "cell_type": "markdown",
   "id": "1d5706a2-c8fa-4aae-af05-e2defa25cc88",
   "metadata": {},
   "source": [
    "Допустим, нам требуется разделить всех пользователей по возрасту и понять, какие фильмы нравятся больше всего каждой возрастной группе: "
   ]
  },
  {
   "cell_type": "code",
   "execution_count": 44,
   "id": "eabb1f38-6d6c-4504-a08e-eef8aef430b0",
   "metadata": {},
   "outputs": [
    {
     "name": "stdout",
     "output_type": "stream",
     "text": [
      "   User_ID         Name_x  Age Country Subscription_Type  Watch_Time_Hours  \\\n",
      "0        6  David Johnson   21     USA          Standard            615.93   \n",
      "1        6  David Johnson   21     USA          Standard            615.93   \n",
      "2        6  David Johnson   21     USA          Standard            615.93   \n",
      "3        6  David Johnson   21     USA          Standard            615.93   \n",
      "4        6  David Johnson   21     USA          Standard            615.93   \n",
      "\n",
      "  Favorite_Genre  Last_Login  Movie_ID  Year                  Name_y  Rating  \\\n",
      "0        Romance  2025-02-03        30  2003  Something's Gotta Give       3   \n",
      "1        Romance  2025-02-03       173  1968     The Devil's Brigade       4   \n",
      "2        Romance  2025-02-03       175  1992          Reservoir Dogs       5   \n",
      "3        Romance  2025-02-03       191  2003        X2: X-Men United       2   \n",
      "4        Romance  2025-02-03       197  2004            Taking Lives       3   \n",
      "\n",
      "      Genres Age_Group  \n",
      "0  [Romance]     18-30  \n",
      "1  [Romance]     18-30  \n",
      "2  [Romance]     18-30  \n",
      "3  [Romance]     18-30  \n",
      "4  [Romance]     18-30  \n"
     ]
    }
   ],
   "source": [
    "rating_user['Age_Group'] = pd.cut(rating_user['Age'],\n",
    "                                  bins = [18,30,45,60,90],\n",
    "                                  labels= ['18-30', '30-45', '45-60', '60-90'])\n",
    "print(rating_user.head())"
   ]
  },
  {
   "cell_type": "markdown",
   "id": "b7780eab-51d2-4ef6-a56b-9cfbd5a01d44",
   "metadata": {},
   "source": [
    "Можно создать дополнительную колонку 'Age_Group', используя метод pd.cut, чтобы отнести каждого пользователя к определенной возрастной группе. Указываются границы каждой группы (bins) и наименования группы (labels)."
   ]
  },
  {
   "cell_type": "code",
   "execution_count": 49,
   "id": "37b143a6-aad7-4b0d-a668-d850376a560b",
   "metadata": {},
   "outputs": [
    {
     "name": "stdout",
     "output_type": "stream",
     "text": [
      "Сводная таблица:\n",
      " Age_Group       18-30  30-45  45-60  60-90\n",
      "Favorite_Genre                            \n",
      "Action           3.71   3.66   3.59   3.61\n",
      "Comedy           3.69   3.54   3.64   3.56\n",
      "Documentary      3.71   3.60   3.67   3.59\n",
      "Drama            3.46   3.71   3.46   3.58\n",
      "Horror           3.52   3.61   3.50   3.62\n",
      "Romance          3.45   3.69   3.89   3.58\n",
      "Sci-Fi           3.54   3.49   3.52   3.59\n"
     ]
    }
   ],
   "source": [
    "pivot = pd.pivot_table(rating_user,\n",
    "                    index = 'Favorite_Genre',\n",
    "                    columns = 'Age_Group',\n",
    "                    aggfunc = 'mean',\n",
    "                    values = 'Rating', observed = True)\n",
    "print(f'Сводная таблица:\\n {pivot.round(2)}')"
   ]
  },
  {
   "cell_type": "markdown",
   "id": "b215b812-798e-485c-9f2a-84f3b6ad016c",
   "metadata": {},
   "source": [
    "Затем, применяя метод pd.pivot_table, создается сводная таблица: по оси абсцисс значения из колонки 'Favorite_Genre', по оси ординат - из 'Age_Group'. Далее в поле значений сводной таблицы находится средний рейтинг по каждому жанру в определенной возрастной группе с округлением до двух знаков после запятой."
   ]
  },
  {
   "cell_type": "code",
   "execution_count": 54,
   "id": "41bf3ee1-81b6-4d4e-a865-db32a59dbc9c",
   "metadata": {},
   "outputs": [
    {
     "name": "stdout",
     "output_type": "stream",
     "text": [
      "Самый популярный жанр для каждой возрастной группы:\n",
      "  Age_Group Most_Popular_Genre\n",
      "0     18-30             Action\n",
      "1     30-45              Drama\n",
      "2     45-60            Romance\n",
      "3     60-90             Horror\n"
     ]
    }
   ],
   "source": [
    "popular_genre = pivot.idxmax(axis=0)\n",
    "popular_genre_df = popular_genre.reset_index()\n",
    "popular_genre_df.columns = ['Age_Group', 'Most_Popular_Genre']\n",
    "print(f'Самый популярный жанр для каждой возрастной группы:\\n{popular_genre_df}')"
   ]
  },
  {
   "cell_type": "markdown",
   "id": "da2e9d81-e34e-47e3-9c7f-785cb3f188a1",
   "metadata": {},
   "source": [
    "Применив данные из сводной таблицы, был создан новый DataFrame popular_genre_df с колонками 'Age_Group' и 'Most_Popular_Genre'. Было найдено максимальное значение в каждой колонке сводной таблицы с помощью метода .idmax(axis = 0)(axis = 0 указывает, что поиск производится по столбцам)."
   ]
  },
  {
   "cell_type": "markdown",
   "id": "a1f96169-9d9d-4972-b5dd-68fa6ff5f2dc",
   "metadata": {},
   "source": [
    "#### 2.3 Средний рейтинг фильмов за каждое десятилетие"
   ]
  },
  {
   "cell_type": "markdown",
   "id": "31e532af-a7d3-41d6-9822-ab04ba5c687d",
   "metadata": {},
   "source": [
    "Можно посмотреть, как люди оценивали фильмы за некоторые временные рамки.\n",
    "Для начала создадим список из необходимых нам десятилетий:"
   ]
  },
  {
   "cell_type": "code",
   "execution_count": 59,
   "id": "745dde03-f437-42fc-a970-80b156659bcd",
   "metadata": {},
   "outputs": [],
   "source": [
    "bins1=[1960, 1970, 1980, 1990, 2000]"
   ]
  },
  {
   "cell_type": "markdown",
   "id": "b4290474-7737-4833-966e-beaf37c4922f",
   "metadata": {},
   "source": [
    "Аналогично созданию столбца 'Age_Group', создадим колонку 'Decade'."
   ]
  },
  {
   "cell_type": "code",
   "execution_count": 62,
   "id": "46eba1b8-5972-4395-b68d-9f142781170a",
   "metadata": {},
   "outputs": [],
   "source": [
    "rating_user['Decade'] = pd.cut(\n",
    "    rating_user['Year'],\n",
    "    bins=bins1,\n",
    "    right=False,\n",
    "    labels=[f'{bins1[i]}' for i in range(len(bins1) - 1)])"
   ]
  },
  {
   "cell_type": "markdown",
   "id": "391d568b-bdb4-406e-b699-950ac012c4a3",
   "metadata": {},
   "source": [
    "Сгруппируем значения по столбцу 'Decade', значения возьмем как средний рейтинг."
   ]
  },
  {
   "cell_type": "code",
   "execution_count": 73,
   "id": "c58d82db-b3c3-4b8d-903a-f457c4dd3f57",
   "metadata": {},
   "outputs": [
    {
     "name": "stdout",
     "output_type": "stream",
     "text": [
      "Средний рейтинг фильмов за каждое десятилетие:\n",
      "Decade\n",
      "1960    3.74\n",
      "1970    3.76\n",
      "1980    3.62\n",
      "1990    3.61\n",
      "Name: Rating, dtype: float64\n"
     ]
    }
   ],
   "source": [
    "avg_rating_by_year = round(rating_user.groupby('Decade', observed = True)['Rating'].mean(),2)\n",
    "print(f'Средний рейтинг фильмов за каждое десятилетие:\\n{avg_rating_by_year}')"
   ]
  },
  {
   "cell_type": "markdown",
   "id": "18ad94c7-4a79-4e33-ac5f-a5ff4aa34d48",
   "metadata": {},
   "source": [
    "Итог: в семидесятые выпускались фильмы с самым высоким средним рейтингом."
   ]
  },
  {
   "cell_type": "markdown",
   "id": "56727d83-c517-46ed-9541-a6c55fca6e46",
   "metadata": {},
   "source": [
    "#### 2.4 Страна с наибольшим количеством пользователей"
   ]
  },
  {
   "cell_type": "markdown",
   "id": "5086ff47-8e28-41a2-a37f-d465dbeab19f",
   "metadata": {},
   "source": [
    "Также, с помощью библиотек python есть возможность найти страну, пользователей стриминга в которой, наибольшее количество."
   ]
  },
  {
   "cell_type": "code",
   "execution_count": 77,
   "id": "9ab3dada-8fcf-4861-8f7c-68262b6da721",
   "metadata": {},
   "outputs": [
    {
     "name": "stdout",
     "output_type": "stream",
     "text": [
      "Страна с наибольшим кол-вом пользователей:\n",
      "Germany\n"
     ]
    }
   ],
   "source": [
    "country_most_users = rating_user['Country'].value_counts().idxmax()\n",
    "print(f'Страна с наибольшим кол-вом пользователей:\\n{country_most_users}')"
   ]
  },
  {
   "cell_type": "markdown",
   "id": "70e90a5d-435b-407e-879b-e9703568cc08",
   "metadata": {},
   "source": [
    "Методом value_counts().idmax() подсчитается количество значений и затем выделится наиболее часто встречающееся. Таким образом, Германия является страной с наибольшим количеством пользователей."
   ]
  },
  {
   "cell_type": "markdown",
   "id": "4a4d417e-3382-485a-a970-113cf9b101aa",
   "metadata": {},
   "source": [
    "#### 2.5 Самый популярный жанр в каждой стране"
   ]
  },
  {
   "cell_type": "markdown",
   "id": "cc7b8f10-e51d-4844-888d-e30bfe782ee3",
   "metadata": {},
   "source": [
    "Посмотрим, фильмы какого жанра предпочитают пользователи в каждой стране:"
   ]
  },
  {
   "cell_type": "code",
   "execution_count": 86,
   "id": "d9f9b4d8-1a90-4272-a909-eaa69b3e9a42",
   "metadata": {},
   "outputs": [
    {
     "name": "stdout",
     "output_type": "stream",
     "text": [
      "Самый популярный жанр в каждой стране:\n",
      " Country\n",
      "Australia        Romance\n",
      "Brazil           Romance\n",
      "Canada       Documentary\n",
      "France             Drama\n",
      "Germany            Drama\n",
      "India             Horror\n",
      "Japan        Documentary\n",
      "Mexico           Romance\n",
      "UK           Documentary\n",
      "USA              Romance\n",
      "Name: Favorite_Genre, dtype: object\n"
     ]
    }
   ],
   "source": [
    "top_genre_by_country = rating_user.groupby('Country')['Favorite_Genre'].apply(lambda x: x.mode()[0])\n",
    "print(f'Самый популярный жанр в каждой стране:\\n {top_genre_by_country}')"
   ]
  },
  {
   "cell_type": "markdown",
   "id": "5d249c9c-e5a2-4649-9a87-a00652e47abd",
   "metadata": {},
   "source": [
    " В данном случае используется лямбда-функция (lambda), которая берет значения в колонке 'Favorite_Genre' и находит самый частый элемент с помощью метода .mode(). Метод .mode() возвращает список всех значений, встречающихся чаще всего. Так как нужен только один результат, мы берем первый элемент списка с помощью [0]."
   ]
  },
  {
   "cell_type": "markdown",
   "id": "e06e0e44-4072-4847-ba49-26ea12bcf93a",
   "metadata": {},
   "source": [
    "#### 2.6 Отбор фильмов с рейтингом больше 4,5"
   ]
  },
  {
   "cell_type": "code",
   "execution_count": 91,
   "id": "221f7287-0dc9-4c9e-8b98-daea16d00ade",
   "metadata": {},
   "outputs": [
    {
     "name": "stdout",
     "output_type": "stream",
     "text": [
      "        Movie_ID  Rating\n",
      "2            175       5\n",
      "11           457       5\n",
      "24           886       5\n",
      "38          1467       5\n",
      "75          2372       5\n",
      "...          ...     ...\n",
      "165113      3938       5\n",
      "165116      4042       5\n",
      "165118      4056       5\n",
      "165129      4341       5\n",
      "165131      4364       5\n",
      "\n",
      "[36565 rows x 2 columns]\n"
     ]
    }
   ],
   "source": [
    "top_movies = rating_user[rating_user['Rating'] > 4.5][['Movie_ID', 'Rating']]\n",
    "print(top_movies)"
   ]
  },
  {
   "cell_type": "markdown",
   "id": "9b45067f-f57f-481a-b94c-29b09cd185ae",
   "metadata": {},
   "source": [
    "В данном отборе была применена булевая индексация и маскировка: был создан DataFrame c булевыми значениями, где значение True обозначает выполнение условия ['Rating'] > 4.5. После фильтрации оставлены колонки 'Movie_ID' и 'Rating' для нагладности."
   ]
  },
  {
   "cell_type": "markdown",
   "id": "7c6cfd45-aa89-488e-bbc8-5151dd08f755",
   "metadata": {},
   "source": [
    "#### 2.7 Количество просмотренных часов для каждого типа подписки"
   ]
  },
  {
   "cell_type": "code",
   "execution_count": 95,
   "id": "a027afae-ce4e-48b5-92e8-01c692ba26f7",
   "metadata": {},
   "outputs": [
    {
     "name": "stdout",
     "output_type": "stream",
     "text": [
      "Количество просмотренный часов для каждого типа подписки:\n",
      "Subscription_Type\n",
      "Basic       28594802.53\n",
      "Premium     26518708.16\n",
      "Standard    27210667.60\n",
      "Name: Watch_Time_Hours, dtype: float64\n"
     ]
    }
   ],
   "source": [
    "watch_hours = rating_user.groupby('Subscription_Type', observed=True)['Watch_Time_Hours'].sum()\n",
    "print(f'Количество просмотренный часов для каждого типа подписки:\\n{watch_hours}')"
   ]
  },
  {
   "cell_type": "markdown",
   "id": "19231856-bac1-43b8-85e3-90ae1b178202",
   "metadata": {},
   "source": [
    "Опять же, применяем метод .groupby() для группировки данных по колонке 'Subscription_Type', а для значений выносим сумму по часам просмотренного контента. Получается, что пользователи с видом подписки 'Basic' смотрят фильмы и сериалы больше остальных пользователей."
   ]
  },
  {
   "cell_type": "markdown",
   "id": "c2246afb-2c5b-4a26-809f-8a2c10194faa",
   "metadata": {},
   "source": [
    "### 3. Визуализация"
   ]
  },
  {
   "cell_type": "markdown",
   "id": "2a2c7700-108a-48f7-b468-716510811365",
   "metadata": {},
   "source": [
    "#### 3.1 Гистограмма распределения возраста пользователей"
   ]
  },
  {
   "cell_type": "code",
   "execution_count": 110,
   "id": "c015679e-431c-4cf6-9332-dc8deacc1c2f",
   "metadata": {},
   "outputs": [
    {
     "data": {
      "image/png": "[encoded data removed]",
      "text/plain": [
       "<Figure size 640x480 with 1 Axes>"
      ]
     },
     "metadata": {},
     "output_type": "display_data"
    }
   ],
   "source": [
    "sns.histplot(rating_user['Age'], bins = 10, kde = True, color='pink')\n",
    "plt.title('Распределение возраста пользователей')\n",
    "plt.show()"
   ]
  },
  {
   "cell_type": "markdown",
   "id": "a73c789c-4caf-4264-98b6-f311a4b5dcd3",
   "metadata": {},
   "source": [
    "C помощью метода hisplot была построена гистограмма распределения возраста пользователей."
   ]
  },
  {
   "cell_type": "markdown",
   "id": "e0924e69-8ccb-4f86-8192-7b4205b1aae9",
   "metadata": {},
   "source": [
    "#### 3.2 Кривая плотности рейтинга"
   ]
  },
  {
   "cell_type": "markdown",
   "id": "efbd7b0e-42e7-4105-ad44-5e4d99bc032b",
   "metadata": {},
   "source": [
    "Для наглядности создана визуализация кривой плотности рейтинга:"
   ]
  },
  {
   "cell_type": "code",
   "execution_count": 114,
   "id": "eba1e381-bdb4-4dda-9eac-34176eb9bf92",
   "metadata": {},
   "outputs": [
    {
     "data": {
      "image/png": "[encoded data removed]",
      "text/plain": [
       "<Figure size 640x480 with 1 Axes>"
      ]
     },
     "metadata": {},
     "output_type": "display_data"
    }
   ],
   "source": [
    "sns.kdeplot(rating_user['Rating'], color='blue', fill=True)\n",
    "plt.title('Кривая плотности рейтинга')\n",
    "plt.show()"
   ]
  },
  {
   "cell_type": "markdown",
   "id": "f1dd7238-2806-47ed-9b05-f60f9ee2d543",
   "metadata": {},
   "source": [
    "Следовательно, можно увидеть, что пользователи больше склонны ставить фильмам оценку '4'."
   ]
  },
  {
   "cell_type": "markdown",
   "id": "867df281-d2b9-464a-bb5c-79499d098660",
   "metadata": {},
   "source": [
    "#### 3.3 Распределние типов подписок по разным возрастным группам"
   ]
  },
  {
   "cell_type": "markdown",
   "id": "89d77bbc-3ef0-44f1-bc6e-89a2d38cdd05",
   "metadata": {},
   "source": [
    "Сгруппируем данные по возрастной группе и типу подписки:"
   ]
  },
  {
   "cell_type": "code",
   "execution_count": 127,
   "id": "0eedc62f-7cdf-444e-a38a-7e14c84c4fe9",
   "metadata": {},
   "outputs": [
    {
     "name": "stdout",
     "output_type": "stream",
     "text": [
      "   Age_Group Subscription_Type  Count\n",
      "0      18-30             Basic   8753\n",
      "1      18-30           Premium   9662\n",
      "2      18-30          Standard   8254\n",
      "3      30-45             Basic  14185\n",
      "4      30-45           Premium  11211\n",
      "5      30-45          Standard  11167\n",
      "6      45-60             Basic  11977\n",
      "7      45-60           Premium  12598\n",
      "8      45-60          Standard  12310\n",
      "9      60-90             Basic  17929\n",
      "10     60-90           Premium  14991\n",
      "11     60-90          Standard  16373\n"
     ]
    }
   ],
   "source": [
    "subscription_counts = rating_user.groupby(['Age_Group', 'Subscription_Type'], observed=True).size().reset_index(name='Count')\n",
    "print(subscription_counts)"
   ]
  },
  {
   "cell_type": "markdown",
   "id": "2e683fb2-513a-4dc1-8d9a-74fd8b4e2a7e",
   "metadata": {},
   "source": [
    "Была произведена группировка по двум колонкам: 'Age_Group' и 'Subscription_Type'. Метод .size() подсчитывает количество записей в каждой группе. То есть, для каждой уникальной пары значений 'Age_Group' и 'Subscription_Type' будет определено число подписчиков. Метод .reset_index() преобразует результат группировки обратно в DataFrame. Параметр name='Count' присваивает имя новому столбцу, содержащему количество подписчиков для каждой комбинации 'Age_Group' и 'Subscription_Type'."
   ]
  },
  {
   "cell_type": "markdown",
   "id": "cf26827d-5496-4509-80e8-0e53f3cd1f04",
   "metadata": {},
   "source": [
    "Построение гистограммы barplot:"
   ]
  },
  {
   "cell_type": "code",
   "execution_count": 123,
   "id": "0350ed9c-5c05-466e-87ca-d8d00f4c037d",
   "metadata": {},
   "outputs": [
    {
     "data": {
      "image/png": "[encoded data removed]",
      "text/plain": [
       "<Figure size 640x480 with 1 Axes>"
      ]
     },
     "metadata": {},
     "output_type": "display_data"
    }
   ],
   "source": [
    "sns.barplot(x='Age_Group', y='Count', hue='Subscription_Type', data=subscription_counts, palette='viridis')\n",
    "plt.title('Распределение типов подписок по возрастным группам')\n",
    "plt.xlabel('Возрастная группа')\n",
    "plt.ylabel('Количество подписок')\n",
    "plt.legend(title='Тип подписки')\n",
    "plt.show()"
   ]
  },
  {
   "cell_type": "markdown",
   "id": "d22469e5-9f51-4ee7-ac41-28d5619bc24e",
   "metadata": {},
   "source": [
    "По оси абсцисс выводится возрастная группа, по оси ординат количество подписчиков. Из данной гистаграммы видно, что пользователи от 18 до 30 лет чаще выбирают подписку Premium, а пользователи более старшего возраста предпочитают подписку Basic."
   ]
  },
  {
   "cell_type": "markdown",
   "id": "cdce743c-7f58-4b3c-aeae-65408839f16d",
   "metadata": {},
   "source": [
    "По итогам всего вышесказанного можно понять, как с помощью языка python и его библиотек визуализировать информацию, получить необходимые данные, провести аналитику по различным критериям и категориям для различных нужд."
   ]
  },
  {
   "cell_type": "code",
   "execution_count": null,
   "id": "cc905f55-f3f2-44fd-b3bc-d6585fc453e7",
   "metadata": {},
   "outputs": [],
   "source": []
  }
 ],
 "metadata": {
  "kernelspec": {
   "display_name": "Python [conda env:base] *",
   "language": "python",
   "name": "conda-base-py"
  },
  "language_info": {
   "codemirror_mode": {
    "name": "ipython",
    "version": 3
   },
   "file_extension": ".py",
   "mimetype": "text/x-python",
   "name": "python",
   "nbconvert_exporter": "python",
   "pygments_lexer": "ipython3",
   "version": "3.12.7"
  }
 },
 "nbformat": 4,
 "nbformat_minor": 5
}
